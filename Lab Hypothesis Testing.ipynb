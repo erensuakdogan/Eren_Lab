{
 "cells": [
  {
   "cell_type": "markdown",
   "id": "389f34e7-36be-4585-b196-1ae50cb5ec4b",
   "metadata": {},
   "source": [
    "Instructions\n",
    "It is assumed that the mean systolic blood pressure is μ = 120 mm Hg. In the Honolulu Heart Study, a sample of n = 100 people had an average systolic blood pressure of 130.1 mm Hg with a standard deviation of 21.21 mm Hg. Is the group significantly different (with respect to systolic blood pressure!) from the regular population?\n",
    "\n",
    "\n",
    "Set up the hypothesis test.\n",
    "Write down all the steps followed for setting up the test.\n",
    "Calculate the test statistic by hand and also code it in Python. It should be 4.76190. What decision can you make based on this calculated value?\n",
    "Hint: here is the statistic table"
   ]
  },
  {
   "cell_type": "code",
   "execution_count": null,
   "id": "51cd7761-66d2-45e6-98da-ac3b61f6f65f",
   "metadata": {},
   "outputs": [],
   "source": [
    "# Set up the hypothesis test.\n",
    "\n",
    "H0: μ = 120 Hg\n",
    "H1: u =! 120 Hg"
   ]
  },
  {
   "cell_type": "code",
   "execution_count": 5,
   "id": "6e3e5f46-58b9-48dc-909d-32d2cb63eb58",
   "metadata": {
    "tags": []
   },
   "outputs": [],
   "source": [
    "#Write down all the steps followed for setting up the test.\n",
    "n = 100\n",
    "sample_mean= 130.1\n",
    "sample_sd=21.21\n",
    "μ = 120 \n",
    "#as there is no population sd, we do t test\n",
    "t = (sample_mean - μ)/(sample_sd/10)"
   ]
  },
  {
   "cell_type": "code",
   "execution_count": 6,
   "id": "d52e1b7a-c1d6-43a9-8eea-2899e21270cb",
   "metadata": {
    "tags": []
   },
   "outputs": [
    {
     "data": {
      "text/plain": [
       "4.761904761904759"
      ]
     },
     "execution_count": 6,
     "metadata": {},
     "output_type": "execute_result"
    }
   ],
   "source": [
    "t\n",
    "#t value is greater than 2.62. we reject H0. \n"
   ]
  },
  {
   "cell_type": "code",
   "execution_count": null,
   "id": "66ce677b-269f-4837-aecd-98e725bba3d0",
   "metadata": {},
   "outputs": [],
   "source": []
  }
 ],
 "metadata": {
  "kernelspec": {
   "display_name": "Python 3 (ipykernel)",
   "language": "python",
   "name": "python3"
  },
  "language_info": {
   "codemirror_mode": {
    "name": "ipython",
    "version": 3
   },
   "file_extension": ".py",
   "mimetype": "text/x-python",
   "name": "python",
   "nbconvert_exporter": "python",
   "pygments_lexer": "ipython3",
   "version": "3.11.5"
  }
 },
 "nbformat": 4,
 "nbformat_minor": 5
}
