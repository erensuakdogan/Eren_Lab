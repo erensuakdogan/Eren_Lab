{
 "cells": [
  {
   "cell_type": "markdown",
   "id": "25d7736c-ba17-4aff-b6bb-66eba20fbf4e",
   "metadata": {},
   "source": [
    "# Lab | List, Dict and Set Comprehension"
   ]
  },
  {
   "cell_type": "markdown",
   "id": "7dd3cbde-675a-4b81-92c3-f728846dbe06",
   "metadata": {},
   "source": [
    "## Exercise: Managing Customer Orders Optimized with Comprehension"
   ]
  },
  {
   "cell_type": "markdown",
   "id": "5d500160-2fb7-4777-b5e4-09d45ebaf328",
   "metadata": {},
   "source": [
    "In the previous exercise, you developed a program to manage customer orders and inventory. Now, let's take it a step further and incorporate comprehension into your code.\n",
    "\n",
    "Follow the steps below to complete the exercise:\n",
    "\n",
    "1. Review your code from the previous exercise and identify areas where you can apply comprehension to simplify and streamline your code. \n",
    "\n",
    "    - *Hint: Apply it to initialize inventory, updating the inventory and printing the updated inventory.*\n",
    "    \n",
    "    - For example, in initializing the inventory, we could have:\n",
    "    \n",
    "        ```python\n",
    "        def initialize_inventory(products):\n",
    "            inventory = {product: int(input(f\"Enter the quantity of {product}s available: \")) for product in products}\n",
    "            return inventory\n",
    "\n",
    "        ```\n",
    "<br>\n",
    "    \n",
    "    \n",
    "2. Modify the function get_customer_orders so it prompts the user to enter the number of customer orders and gathers the product names using a loop and user input. Use comprehension.\n",
    "\n",
    "3. Add a new function to calculate the total price of the customer order. For each product in customer_orders, prompt the user to enter the price of that product. Use comprehension to calculate the total price. Note: assume that the user can only have 1 unit of each product.\n",
    "\n",
    "4. Modify the update_inventory function to remove the product from the inventory if its quantity becomes zero after fulfilling the customer orders. Use comprehension to filter out the products with a quantity of zero from the inventory.\n",
    "\n",
    "5. Print the total price of the customer order.\n",
    "\n",
    "Your code should produce output similar to the following:\n",
    "\n",
    "```python\n",
    "Enter the quantity of t-shirts available:  5\n",
    "Enter the quantity of mugs available:  4\n",
    "Enter the quantity of hats available:  3\n",
    "Enter the quantity of books available:  2\n",
    "Enter the quantity of keychains available:  1\n",
    "Enter the number of customer orders:  2\n",
    "Enter the name of a product that a customer wants to order:  hat\n",
    "Enter the name of a product that a customer wants to order:  keychain\n",
    "\n",
    "Order Statistics:\n",
    "Total Products Ordered: 2\n",
    "Percentage of Unique Products Ordered: 40.0\n",
    "\n",
    "Updated Inventory:\n",
    "t-shirt: 5\n",
    "mug: 4\n",
    "hat: 2\n",
    "book: 2\n",
    "Enter the price of keychain:  5\n",
    "Enter the price of hat:  10\n",
    "Total Price: 15.0\n",
    "\n",
    "```\n"
   ]
  },
  {
   "cell_type": "code",
   "execution_count": 5,
   "id": "897f6798",
   "metadata": {},
   "outputs": [
    {
     "name": "stdout",
     "output_type": "stream",
     "text": [
      "please enter the quantity for t-shirt: 10\n",
      "please enter the quantity for mug: 6\n",
      "please enter the quantity for hat: 9\n",
      "please enter the quantity for book: 8\n",
      "please enter the quantity for keychain: 6\n",
      "{'t-shirt': 10, 'mug': 6, 'hat': 9, 'book': 8, 'keychain': 6}\n",
      "put the name of your orderbook\n",
      "would you like to add more products? input Y or NY\n",
      "put the name of the new ordersshelf\n",
      "would you like to add more products? input Y or NN\n",
      "{'t-shirt': 10, 'mug': 6, 'hat': 9, 'book': 8, 'keychain': 6}\n",
      "{'t-shirt': 10, 'mug': 6, 'hat': 9, 'book': 8, 'keychain': 6}\n",
      "{'t-shirt': 10, 'mug': 6, 'hat': 9, 'book': 7, 'keychain': 6}\n",
      "{'t-shirt': 10, 'mug': 6, 'hat': 9, 'book': 7, 'keychain': 6}\n"
     ]
    }
   ],
   "source": [
    "\"\"\"\"\n",
    "#Old code\n",
    "\n",
    "products = [\"t-shirt\", \"mug\", \"hat\", \"book\", \"keychain\"]\n",
    "\n",
    "inventory={}\n",
    "\n",
    "quantities=[]\n",
    "\n",
    "def initialize_inventory(products):\n",
    "    for i in products:\n",
    "        q=(int(input(f'please enter the quantity for {i}: ')))\n",
    "        inventory[i]=q\n",
    "        quantities.append(q)\n",
    "initialize_inventory(products)\n",
    "print (inventory)\n",
    "    \n",
    "customer_orders=set()\n",
    "def get_customer_orders():\n",
    "    new_product = input('put the name of your order')\n",
    "    customer_orders.add(new_product)\n",
    "    yayornay = input('would you like to add more products? input Y or N')\n",
    "    while yayornay!='N':\n",
    "        newer_product = input('put the name of the new order: ')\n",
    "        yayornay=input('would you like to add more products? input Y or N')\n",
    "        customer_orders.add(newer_product)       \n",
    "    return customer_orders\n",
    "get_customer_orders()\n",
    "\n",
    "def update_inventory(customer_orders,inventory):\n",
    "    print(inventory)\n",
    "    for i in customer_orders:\n",
    "        if i in inventory:\n",
    "            inventory[i]=inventory[i]-1\n",
    "    print (inventory)\n",
    "\n",
    "update_inventory(customer_orders,inventory)\n",
    "\n",
    "print (inventory)\n",
    "\n",
    "\"''\""
   ]
  },
  {
   "cell_type": "code",
   "execution_count": 7,
   "id": "13540abc",
   "metadata": {
    "scrolled": true
   },
   "outputs": [
    {
     "name": "stdout",
     "output_type": "stream",
     "text": [
      "Enter the quantity of t-shirts available: 60\n",
      "Enter the quantity of mugs available: 50\n",
      "Enter the quantity of hats available: 80\n",
      "Enter the quantity of books available: 90\n",
      "Enter the quantity of keychains available: 45\n",
      "put the name of your orderbook\n",
      "would you like to add more products? input Y or NY\n",
      "put the name of the new ordersshelf\n",
      "would you like to add more products? input Y or NN\n",
      "{'t-shirt': 10, 'mug': 6, 'hat': 9, 'book': 7, 'keychain': 6}\n"
     ]
    },
    {
     "ename": "NameError",
     "evalue": "name 'updated_inventory' is not defined",
     "output_type": "error",
     "traceback": [
      "\u001b[1;31m---------------------------------------------------------------------------\u001b[0m",
      "\u001b[1;31mNameError\u001b[0m                                 Traceback (most recent call last)",
      "Cell \u001b[1;32mIn[7], line 28\u001b[0m\n\u001b[0;32m     25\u001b[0m     updated_inventory\u001b[38;5;241m=\u001b[39m{product: inventory[product]\u001b[38;5;241m-\u001b[39m\u001b[38;5;241m1\u001b[39m \u001b[38;5;28;01mfor\u001b[39;00m product \u001b[38;5;129;01min\u001b[39;00m inventory \u001b[38;5;28;01mif\u001b[39;00m product \u001b[38;5;129;01min\u001b[39;00m customer_orders}\n\u001b[0;32m     26\u001b[0m update_inventory(customer_orders,inventory)\n\u001b[1;32m---> 28\u001b[0m \u001b[38;5;28mprint\u001b[39m(updated_inventory)\n",
      "\u001b[1;31mNameError\u001b[0m: name 'updated_inventory' is not defined"
     ]
    }
   ],
   "source": [
    "#1 Review your code from the previous exercise and identify areas where you can apply comprehension to simplify and streamline your code.\n",
    "\n",
    "#Hint: Apply it to initialize inventory, updating the inventory and printing the updated inventory.\n",
    "products = [\"t-shirt\", \"mug\", \"hat\", \"book\", \"keychain\"]\n",
    "customer_orders=set()\n",
    "def initialize_inventory(products):\n",
    "    inventory = {product: int(input(f\"Enter the quantity of {product}s available: \")) for product in products}\n",
    "    return inventory\n",
    "initialize_inventory(products)\n",
    "\n",
    "customer_orders=set()\n",
    "def get_customer_orders():\n",
    "    number_of_orders= int(input('enter')\n",
    "    new_product = input('put the name of your order')\n",
    "    customer_orders.add(new_product)\n",
    "    yayornay = input('would you like to add more products? input Y or N')\n",
    "    while yayornay!='N':\n",
    "        newer_product = input('put the name of the new orders')\n",
    "        yayornay=input('would you like to add more products? input Y or N')\n",
    "        customer_orders.add(newer_product)       \n",
    "    return customer_orders\n",
    "get_customer_orders()\n",
    "print (inventory)\n",
    "\n",
    "def update_inventory(customer_orders,inventory):\n",
    "    updated_inventory = {product: inventory[product]-1 if product in customer_orders else inventory[product] for product in inventory}\n",
    "    return updated_inventory\n",
    "    print (updated_inventory)\n",
    "updated_inventory=update_inventory(customer_orders,inventory)\n",
    "updated_inventory\n"
   ]
  },
  {
   "cell_type": "code",
   "execution_count": null,
   "id": "c7bbdf43",
   "metadata": {},
   "outputs": [],
   "source": [
    "#2 Modify the function get_customer_orders so it prompts the user to enter the number of customer orders \n",
    "#and gathers the product names using a loop and user input. Use comprehension.\n",
    "\"\"\"\" OLD VERSION\n",
    "customer_orders=set()\n",
    "def get_customer_orders():\n",
    "    number_of_orders= int(input('enter the number of orders you want to enter')\n",
    "    for i in range number_of_orders:\n",
    "        customer_orders={input('enter the name of your order'):int(input(enter the number of this order')}  \n",
    "    new_product = input('put the name of your order')\n",
    "    customer_orders.add(new_product)\n",
    "    yayornay = input('would you like to add more products? input Y or N')\n",
    "    while yayornay!='N':\n",
    "        newer_product = input('put the name of the new orders')\n",
    "        yayornay=input('would you like to add more products? input Y or N')\n",
    "        customer_orders.add(newer_product)       \n",
    "    return customer_orders\n",
    "get_customer_orders()\n",
    "\"\"\" \n",
    "\n",
    "number_of_orders= int(input('enter the number of orders you want to enter'))\n",
    "customer_orders={input('enter the name of your order: '): input('enter the number of this order: ') for i in range (number_of_orders)}\n",
    "customer_orders"
   ]
  },
  {
   "cell_type": "code",
   "execution_count": 84,
   "id": "d1ccc384",
   "metadata": {},
   "outputs": [
    {
     "name": "stdout",
     "output_type": "stream",
     "text": [
      "please enter the price of the book: 10\n",
      "please enter the price of the shelf: 5\n",
      "Total Price is: 15\n"
     ]
    }
   ],
   "source": [
    "#3----\n",
    "#Add a new function to calculate the total price of the customer order. \n",
    "#For each product in customer_orders, prompt the user to enter the price of that product. \n",
    "#Use comprehension to calculate the total price. \n",
    "#Note: assume that the user can only have 1 unit of each product.\n",
    "\n",
    "def price_calculator():\n",
    "    price_list = {product: int(input(f'please enter the price of the {product}: ')) for product in customer_orders}\n",
    "    sum_price = sum(price_list.values())\n",
    "    print ('Total Price is:', sum_price)\n",
    "price_calculator()\n",
    "\n",
    "\n"
   ]
  },
  {
   "cell_type": "code",
   "execution_count": 85,
   "id": "166de674",
   "metadata": {},
   "outputs": [
    {
     "name": "stdout",
     "output_type": "stream",
     "text": [
      "{'t-shirt': 10, 'hat': 9, 'book': 6, 'keychain': 6}\n"
     ]
    }
   ],
   "source": [
    "#Modify the update_inventory function to remove the product from the inventory if its quantity becomes zero \n",
    "#after fulfilling the customer orders. Use comprehension to filter out the products \n",
    "#with a quantity of zero from the inventory.\n",
    "\n",
    "updated_inventory['mug'] = 0\n",
    "\n",
    "def update_inventory_2():\n",
    "    updated_inventory_list_2 = {product: updated_inventory[product] for product in updated_inventory if not updated_inventory[product]== 0} \n",
    "    print (updated_inventory_list_2)\n",
    "update_inventory_2()\n"
   ]
  },
  {
   "cell_type": "code",
   "execution_count": 86,
   "id": "5ac52c17",
   "metadata": {},
   "outputs": [
    {
     "name": "stdout",
     "output_type": "stream",
     "text": [
      "please enter the price of the book: 60\n",
      "please enter the price of the shelf: 50\n",
      "Total Price is: 110\n"
     ]
    }
   ],
   "source": [
    "#5 \n",
    "#Print the total price of the customer order.\n",
    "price_calculator()"
   ]
  },
  {
   "cell_type": "code",
   "execution_count": null,
   "id": "5aed5a4a",
   "metadata": {},
   "outputs": [],
   "source": []
  }
 ],
 "metadata": {
  "kernelspec": {
   "display_name": "Python 3 (ipykernel)",
   "language": "python",
   "name": "python3"
  },
  "language_info": {
   "codemirror_mode": {
    "name": "ipython",
    "version": 3
   },
   "file_extension": ".py",
   "mimetype": "text/x-python",
   "name": "python",
   "nbconvert_exporter": "python",
   "pygments_lexer": "ipython3",
   "version": "3.11.5"
  }
 },
 "nbformat": 4,
 "nbformat_minor": 5
}
