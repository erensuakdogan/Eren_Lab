{
 "cells": [
  {
   "cell_type": "markdown",
   "id": "25d7736c-ba17-4aff-b6bb-66eba20fbf4e",
   "metadata": {},
   "source": [
    "# Lab | Error Handling"
   ]
  },
  {
   "cell_type": "markdown",
   "id": "bc99b386-7508-47a0-bcdb-d969deaf6c8b",
   "metadata": {},
   "source": [
    "## Exercise: Error Handling for Managing Customer Orders\n",
    "\n",
    "The implementation of your code for managing customer orders assumes that the user will always enter a valid input. \n",
    "\n",
    "For example, we could modify the `initialize_inventory` function to include error handling.\n",
    "   - If the user enters an invalid quantity (e.g., a negative value or a non-numeric value), display an error message and ask them to re-enter the quantity for that product.\n",
    "   - Use a try-except block to handle the error and continue prompting the user until a valid quantity is entered.\n",
    "\n",
    "```python\n",
    "# Step 1: Define the function for initializing the inventory with error handling\n",
    "def initialize_inventory(products):\n",
    "    inventory = {}\n",
    "    for product in products:\n",
    "        valid_quantity = False\n",
    "        while not valid_quantity:\n",
    "            try:\n",
    "                quantity = int(input(f\"Enter the quantity of {product}s available: \"))\n",
    "                if quantity < 0:\n",
    "                    raise ValueError(\"Invalid quantity! Please enter a non-negative value.\")\n",
    "                valid_quantity = True\n",
    "            except ValueError as error:\n",
    "                print(f\"Error: {error}\")\n",
    "        inventory[product] = quantity\n",
    "    return inventory\n",
    "\n",
    "# Or, in another way:\n",
    "\n",
    "def initialize_inventory(products):\n",
    "    inventory = {}\n",
    "    for product in products:\n",
    "        valid_input = False\n",
    "        while not valid_input:\n",
    "            try:\n",
    "                quantity = int(input(f\"Enter the quantity of {product}s available: \"))\n",
    "                if quantity >= 0:\n",
    "                    inventory[product] = quantity\n",
    "                    valid_input = True\n",
    "                else:\n",
    "                    print(\"Quantity cannot be negative. Please enter a valid quantity.\")\n",
    "            except ValueError:\n",
    "                print(\"Invalid input. Please enter a valid quantity.\")\n",
    "    return inventory\n",
    "```\n",
    "\n",
    "Let's enhance your code by implementing error handling to handle invalid inputs.\n",
    "\n",
    "Follow the steps below to complete the exercise:\n",
    "\n",
    "2. Modify the `calculate_total_price` function to include error handling.\n",
    "   - If the user enters an invalid price (e.g., a negative value or a non-numeric value), display an error message and ask them to re-enter the price for that product.\n",
    "   - Use a try-except block to handle the error and continue prompting the user until a valid price is entered.\n",
    "\n",
    "3. Modify the `get_customer_orders` function to include error handling.\n",
    "   - If the user enters an invalid number of orders (e.g., a negative value or a non-numeric value), display an error message and ask them to re-enter the number of orders.\n",
    "   - If the user enters an invalid product name (e.g., a product name that is not in the inventory), or that doesn't have stock available, display an error message and ask them to re-enter the product name. *Hint: you will need to pass inventory as a parameter*\n",
    "   - Use a try-except block to handle the error and continue prompting the user until a valid product name is entered.\n",
    "\n",
    "4. Test your code by running the program and deliberately entering invalid quantities and product names. Make sure the error handling mechanism works as expected.\n"
   ]
  },
  {
   "cell_type": "code",
   "execution_count": 1,
   "id": "ae6a6a85-6a37-4fbf-b98e-9a387ef2d0a7",
   "metadata": {
    "tags": []
   },
   "outputs": [
    {
     "name": "stdout",
     "output_type": "stream",
     "text": [
      "Total Price is: 0\n"
     ]
    }
   ],
   "source": [
    "##### 2 #####\n",
    "products=[\"t-shirt\", \"mug\", \"hat\", \"book\", \"keychain\"]\n",
    "\n",
    "def initialize_inventory(products):\n",
    "    inventory = {}\n",
    "    for product in products:\n",
    "        valid_input = False\n",
    "        while not valid_input:\n",
    "            try:\n",
    "                quantity = int(input(f\"Enter the quantity of {product}s available: \"))\n",
    "                if quantity >= 0:\n",
    "                    inventory[product] = quantity\n",
    "                    valid_input = True\n",
    "                else:\n",
    "                    print(\"Quantity cannot be negative. Please enter a valid quantity.\")\n",
    "            except ValueError:\n",
    "                print(\"Invalid input. Please enter a valid quantity.\")\n",
    "    return inventory\n",
    "\n",
    "\n",
    "customer_orders=set()\n",
    "def get_customer_orders(inventory):\n",
    "    valid_input = False\n",
    "    while not valid_input:\n",
    "        try:\n",
    "            num_orders = int(input(\"Enter the number of customer orders: \"))\n",
    "            if num_orders >= 0:\n",
    "                valid_input = True\n",
    "            else:\n",
    "                print(\"Number of orders cannot be negative. Please enter a valid number.\")\n",
    "        except ValueError:\n",
    "            print(\"Invalid input. Please enter a valid number.\")\n",
    "\n",
    "    customer_orders = set()\n",
    "    for _ in range(num_orders):\n",
    "        valid_product = False\n",
    "        while not valid_product:\n",
    "            product_name = input(\"Enter the name of a product that a customer wants to order: \")\n",
    "            try:\n",
    "                if product_name in inventory and inventory[product_name] > 0:\n",
    "                    customer_orders.add(product_name)\n",
    "                    valid_product = True\n",
    "                else:\n",
    "                    if product_name not in inventory:\n",
    "                        raise ValueError(f\"Error: {product_name} is not available in the inventory.\")\n",
    "                    else:\n",
    "                        raise ValueError(f\"Error: {product_name} is out of stock.\")\n",
    "            except ValueError as e:\n",
    "                print(str(e))\n",
    "\n",
    "    return customer_orders\n",
    "\n",
    "def price_calculator():\n",
    "    product_prices={}\n",
    "    for product in customer_orders:\n",
    "        valid_price = False\n",
    "        while not valid_price:\n",
    "            try:\n",
    "                price = int(input(f'please enter the price of the {product}'))\n",
    "                if price >= 0:\n",
    "                    product_prices[product]= price\n",
    "                    valid_price=True\n",
    "                else:\n",
    "                    print(\"Quantity cannot be negative. Please enter a valid quantity.\")\n",
    "            except:\n",
    "                print(\"Invalid input. Please enter a numeric positive value\")\n",
    "\n",
    "    sum_price = sum(product_prices.values())\n",
    "    \n",
    "    print ('Total Price is:', sum_price)\n",
    "\n",
    "price_calculator()"
   ]
  },
  {
   "cell_type": "code",
   "execution_count": null,
   "id": "809928db-6c85-4afc-907a-07b59a511069",
   "metadata": {
    "jupyter": {
     "source_hidden": true
    },
    "tags": []
   },
   "outputs": [
    {
     "name": "stdin",
     "output_type": "stream",
     "text": [
      "put the name of your order 4\n",
      "would you like to add more products? input Y or N Y\n"
     ]
    }
   ],
   "source": [
    "#### 3 #####\n",
    "customer_orders=set()\n",
    "def get_customer_orders():\n",
    "    new_product = input('put the name of your order')\n",
    "    customer_orders.add(new_product)\n",
    "    yayornay = input('would you like to add more products? input Y or N')\n",
    "    while yayornay!='N':\n",
    "        newer_product = input('put the name of the new orders')\n",
    "        yayornay=input('would you like to add more products? input Y or N')\n",
    "        customer_orders.add(newer_product)       \n",
    "    return customer_orders\n",
    "get_customer_orders()"
   ]
  },
  {
   "cell_type": "code",
   "execution_count": null,
   "id": "e3997cf9-4c44-4ab5-a28f-3b6b68e0aa64",
   "metadata": {},
   "outputs": [],
   "source": []
  }
 ],
 "metadata": {
  "kernelspec": {
   "display_name": "Python 3 (ipykernel)",
   "language": "python",
   "name": "python3"
  },
  "language_info": {
   "codemirror_mode": {
    "name": "ipython",
    "version": 3
   },
   "file_extension": ".py",
   "mimetype": "text/x-python",
   "name": "python",
   "nbconvert_exporter": "python",
   "pygments_lexer": "ipython3",
   "version": "3.11.5"
  }
 },
 "nbformat": 4,
 "nbformat_minor": 5
}
